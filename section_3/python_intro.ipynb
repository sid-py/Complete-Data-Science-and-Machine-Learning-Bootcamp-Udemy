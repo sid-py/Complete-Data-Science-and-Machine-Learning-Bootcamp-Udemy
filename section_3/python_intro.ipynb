{
 "cells": [
  {
   "cell_type": "code",
   "execution_count": 151,
   "source": [
    "\r\n",
    "import pandas as pd\r\n",
    "from life import quote_marvin\r\n",
    "import matplotlib.pyplot as plt\r\n",
    "from sklearn.linear_model import LinearRegression\r\n"
   ],
   "outputs": [],
   "metadata": {}
  },
  {
   "cell_type": "code",
   "execution_count": 152,
   "source": [
    "data = pd.read_csv(r\"C:\\Users\\2kjph5\\OneDrive - Merit Automotive Electronics Systems, S.L\\03-Miscellaneous\\Studies\\Learning\\python\\Complete-Data-Science-and-Machine-Learning-Bootcamp-Udemy\\section_3\\lsd_math_score_data.csv\")\r\n",
    "print(data)"
   ],
   "outputs": [
    {
     "output_type": "stream",
     "name": "stdout",
     "text": [
      "   Time_Delay_in_Minutes  LSD_ppm  Avg_Math_Test_Score\n",
      "0                      5     1.17                78.93\n",
      "1                     15     2.97                58.20\n",
      "2                     30     3.26                67.47\n",
      "3                     60     4.69                37.47\n",
      "4                    120     5.83                45.65\n",
      "5                    240     6.00                32.92\n",
      "6                    480     6.41                29.97\n"
     ]
    }
   ],
   "metadata": {}
  },
  {
   "cell_type": "code",
   "execution_count": 153,
   "source": [
    "data[\"High_Score\"] = 100\r\n",
    "data"
   ],
   "outputs": [
    {
     "output_type": "execute_result",
     "data": {
      "text/html": [
       "<div>\n",
       "<style scoped>\n",
       "    .dataframe tbody tr th:only-of-type {\n",
       "        vertical-align: middle;\n",
       "    }\n",
       "\n",
       "    .dataframe tbody tr th {\n",
       "        vertical-align: top;\n",
       "    }\n",
       "\n",
       "    .dataframe thead th {\n",
       "        text-align: right;\n",
       "    }\n",
       "</style>\n",
       "<table border=\"1\" class=\"dataframe\">\n",
       "  <thead>\n",
       "    <tr style=\"text-align: right;\">\n",
       "      <th></th>\n",
       "      <th>Time_Delay_in_Minutes</th>\n",
       "      <th>LSD_ppm</th>\n",
       "      <th>Avg_Math_Test_Score</th>\n",
       "      <th>High_Score</th>\n",
       "    </tr>\n",
       "  </thead>\n",
       "  <tbody>\n",
       "    <tr>\n",
       "      <th>0</th>\n",
       "      <td>5</td>\n",
       "      <td>1.17</td>\n",
       "      <td>78.93</td>\n",
       "      <td>100</td>\n",
       "    </tr>\n",
       "    <tr>\n",
       "      <th>1</th>\n",
       "      <td>15</td>\n",
       "      <td>2.97</td>\n",
       "      <td>58.20</td>\n",
       "      <td>100</td>\n",
       "    </tr>\n",
       "    <tr>\n",
       "      <th>2</th>\n",
       "      <td>30</td>\n",
       "      <td>3.26</td>\n",
       "      <td>67.47</td>\n",
       "      <td>100</td>\n",
       "    </tr>\n",
       "    <tr>\n",
       "      <th>3</th>\n",
       "      <td>60</td>\n",
       "      <td>4.69</td>\n",
       "      <td>37.47</td>\n",
       "      <td>100</td>\n",
       "    </tr>\n",
       "    <tr>\n",
       "      <th>4</th>\n",
       "      <td>120</td>\n",
       "      <td>5.83</td>\n",
       "      <td>45.65</td>\n",
       "      <td>100</td>\n",
       "    </tr>\n",
       "    <tr>\n",
       "      <th>5</th>\n",
       "      <td>240</td>\n",
       "      <td>6.00</td>\n",
       "      <td>32.92</td>\n",
       "      <td>100</td>\n",
       "    </tr>\n",
       "    <tr>\n",
       "      <th>6</th>\n",
       "      <td>480</td>\n",
       "      <td>6.41</td>\n",
       "      <td>29.97</td>\n",
       "      <td>100</td>\n",
       "    </tr>\n",
       "  </tbody>\n",
       "</table>\n",
       "</div>"
      ],
      "text/plain": [
       "   Time_Delay_in_Minutes  LSD_ppm  Avg_Math_Test_Score  High_Score\n",
       "0                      5     1.17                78.93         100\n",
       "1                     15     2.97                58.20         100\n",
       "2                     30     3.26                67.47         100\n",
       "3                     60     4.69                37.47         100\n",
       "4                    120     5.83                45.65         100\n",
       "5                    240     6.00                32.92         100\n",
       "6                    480     6.41                29.97         100"
      ]
     },
     "metadata": {},
     "execution_count": 153
    }
   ],
   "metadata": {}
  },
  {
   "cell_type": "code",
   "execution_count": 154,
   "source": [
    "data[\"High_Score\"] += data[\"Avg_Math_Test_Score\"] "
   ],
   "outputs": [],
   "metadata": {}
  },
  {
   "cell_type": "code",
   "execution_count": 155,
   "source": [
    "data"
   ],
   "outputs": [
    {
     "output_type": "execute_result",
     "data": {
      "text/html": [
       "<div>\n",
       "<style scoped>\n",
       "    .dataframe tbody tr th:only-of-type {\n",
       "        vertical-align: middle;\n",
       "    }\n",
       "\n",
       "    .dataframe tbody tr th {\n",
       "        vertical-align: top;\n",
       "    }\n",
       "\n",
       "    .dataframe thead th {\n",
       "        text-align: right;\n",
       "    }\n",
       "</style>\n",
       "<table border=\"1\" class=\"dataframe\">\n",
       "  <thead>\n",
       "    <tr style=\"text-align: right;\">\n",
       "      <th></th>\n",
       "      <th>Time_Delay_in_Minutes</th>\n",
       "      <th>LSD_ppm</th>\n",
       "      <th>Avg_Math_Test_Score</th>\n",
       "      <th>High_Score</th>\n",
       "    </tr>\n",
       "  </thead>\n",
       "  <tbody>\n",
       "    <tr>\n",
       "      <th>0</th>\n",
       "      <td>5</td>\n",
       "      <td>1.17</td>\n",
       "      <td>78.93</td>\n",
       "      <td>178.93</td>\n",
       "    </tr>\n",
       "    <tr>\n",
       "      <th>1</th>\n",
       "      <td>15</td>\n",
       "      <td>2.97</td>\n",
       "      <td>58.20</td>\n",
       "      <td>158.20</td>\n",
       "    </tr>\n",
       "    <tr>\n",
       "      <th>2</th>\n",
       "      <td>30</td>\n",
       "      <td>3.26</td>\n",
       "      <td>67.47</td>\n",
       "      <td>167.47</td>\n",
       "    </tr>\n",
       "    <tr>\n",
       "      <th>3</th>\n",
       "      <td>60</td>\n",
       "      <td>4.69</td>\n",
       "      <td>37.47</td>\n",
       "      <td>137.47</td>\n",
       "    </tr>\n",
       "    <tr>\n",
       "      <th>4</th>\n",
       "      <td>120</td>\n",
       "      <td>5.83</td>\n",
       "      <td>45.65</td>\n",
       "      <td>145.65</td>\n",
       "    </tr>\n",
       "    <tr>\n",
       "      <th>5</th>\n",
       "      <td>240</td>\n",
       "      <td>6.00</td>\n",
       "      <td>32.92</td>\n",
       "      <td>132.92</td>\n",
       "    </tr>\n",
       "    <tr>\n",
       "      <th>6</th>\n",
       "      <td>480</td>\n",
       "      <td>6.41</td>\n",
       "      <td>29.97</td>\n",
       "      <td>129.97</td>\n",
       "    </tr>\n",
       "  </tbody>\n",
       "</table>\n",
       "</div>"
      ],
      "text/plain": [
       "   Time_Delay_in_Minutes  LSD_ppm  Avg_Math_Test_Score  High_Score\n",
       "0                      5     1.17                78.93      178.93\n",
       "1                     15     2.97                58.20      158.20\n",
       "2                     30     3.26                67.47      167.47\n",
       "3                     60     4.69                37.47      137.47\n",
       "4                    120     5.83                45.65      145.65\n",
       "5                    240     6.00                32.92      132.92\n",
       "6                    480     6.41                29.97      129.97"
      ]
     },
     "metadata": {},
     "execution_count": 155
    }
   ],
   "metadata": {}
  },
  {
   "cell_type": "code",
   "execution_count": 156,
   "source": [
    "data[\"High_Score\"] = (data[\"High_Score\"])**2\r\n",
    "data "
   ],
   "outputs": [
    {
     "output_type": "execute_result",
     "data": {
      "text/html": [
       "<div>\n",
       "<style scoped>\n",
       "    .dataframe tbody tr th:only-of-type {\n",
       "        vertical-align: middle;\n",
       "    }\n",
       "\n",
       "    .dataframe tbody tr th {\n",
       "        vertical-align: top;\n",
       "    }\n",
       "\n",
       "    .dataframe thead th {\n",
       "        text-align: right;\n",
       "    }\n",
       "</style>\n",
       "<table border=\"1\" class=\"dataframe\">\n",
       "  <thead>\n",
       "    <tr style=\"text-align: right;\">\n",
       "      <th></th>\n",
       "      <th>Time_Delay_in_Minutes</th>\n",
       "      <th>LSD_ppm</th>\n",
       "      <th>Avg_Math_Test_Score</th>\n",
       "      <th>High_Score</th>\n",
       "    </tr>\n",
       "  </thead>\n",
       "  <tbody>\n",
       "    <tr>\n",
       "      <th>0</th>\n",
       "      <td>5</td>\n",
       "      <td>1.17</td>\n",
       "      <td>78.93</td>\n",
       "      <td>32015.9449</td>\n",
       "    </tr>\n",
       "    <tr>\n",
       "      <th>1</th>\n",
       "      <td>15</td>\n",
       "      <td>2.97</td>\n",
       "      <td>58.20</td>\n",
       "      <td>25027.2400</td>\n",
       "    </tr>\n",
       "    <tr>\n",
       "      <th>2</th>\n",
       "      <td>30</td>\n",
       "      <td>3.26</td>\n",
       "      <td>67.47</td>\n",
       "      <td>28046.2009</td>\n",
       "    </tr>\n",
       "    <tr>\n",
       "      <th>3</th>\n",
       "      <td>60</td>\n",
       "      <td>4.69</td>\n",
       "      <td>37.47</td>\n",
       "      <td>18898.0009</td>\n",
       "    </tr>\n",
       "    <tr>\n",
       "      <th>4</th>\n",
       "      <td>120</td>\n",
       "      <td>5.83</td>\n",
       "      <td>45.65</td>\n",
       "      <td>21213.9225</td>\n",
       "    </tr>\n",
       "    <tr>\n",
       "      <th>5</th>\n",
       "      <td>240</td>\n",
       "      <td>6.00</td>\n",
       "      <td>32.92</td>\n",
       "      <td>17667.7264</td>\n",
       "    </tr>\n",
       "    <tr>\n",
       "      <th>6</th>\n",
       "      <td>480</td>\n",
       "      <td>6.41</td>\n",
       "      <td>29.97</td>\n",
       "      <td>16892.2009</td>\n",
       "    </tr>\n",
       "  </tbody>\n",
       "</table>\n",
       "</div>"
      ],
      "text/plain": [
       "   Time_Delay_in_Minutes  LSD_ppm  Avg_Math_Test_Score  High_Score\n",
       "0                      5     1.17                78.93  32015.9449\n",
       "1                     15     2.97                58.20  25027.2400\n",
       "2                     30     3.26                67.47  28046.2009\n",
       "3                     60     4.69                37.47  18898.0009\n",
       "4                    120     5.83                45.65  21213.9225\n",
       "5                    240     6.00                32.92  17667.7264\n",
       "6                    480     6.41                29.97  16892.2009"
      ]
     },
     "metadata": {},
     "execution_count": 156
    }
   ],
   "metadata": {}
  },
  {
   "cell_type": "code",
   "execution_count": 157,
   "source": [
    "columnList = [\"LSD_ppm\", \"Avg_Math_Test_Score\"]"
   ],
   "outputs": [],
   "metadata": {}
  },
  {
   "cell_type": "code",
   "execution_count": 158,
   "source": [
    "cleanData = data[columnList]\r\n",
    "cleanData"
   ],
   "outputs": [
    {
     "output_type": "execute_result",
     "data": {
      "text/html": [
       "<div>\n",
       "<style scoped>\n",
       "    .dataframe tbody tr th:only-of-type {\n",
       "        vertical-align: middle;\n",
       "    }\n",
       "\n",
       "    .dataframe tbody tr th {\n",
       "        vertical-align: top;\n",
       "    }\n",
       "\n",
       "    .dataframe thead th {\n",
       "        text-align: right;\n",
       "    }\n",
       "</style>\n",
       "<table border=\"1\" class=\"dataframe\">\n",
       "  <thead>\n",
       "    <tr style=\"text-align: right;\">\n",
       "      <th></th>\n",
       "      <th>LSD_ppm</th>\n",
       "      <th>Avg_Math_Test_Score</th>\n",
       "    </tr>\n",
       "  </thead>\n",
       "  <tbody>\n",
       "    <tr>\n",
       "      <th>0</th>\n",
       "      <td>1.17</td>\n",
       "      <td>78.93</td>\n",
       "    </tr>\n",
       "    <tr>\n",
       "      <th>1</th>\n",
       "      <td>2.97</td>\n",
       "      <td>58.20</td>\n",
       "    </tr>\n",
       "    <tr>\n",
       "      <th>2</th>\n",
       "      <td>3.26</td>\n",
       "      <td>67.47</td>\n",
       "    </tr>\n",
       "    <tr>\n",
       "      <th>3</th>\n",
       "      <td>4.69</td>\n",
       "      <td>37.47</td>\n",
       "    </tr>\n",
       "    <tr>\n",
       "      <th>4</th>\n",
       "      <td>5.83</td>\n",
       "      <td>45.65</td>\n",
       "    </tr>\n",
       "    <tr>\n",
       "      <th>5</th>\n",
       "      <td>6.00</td>\n",
       "      <td>32.92</td>\n",
       "    </tr>\n",
       "    <tr>\n",
       "      <th>6</th>\n",
       "      <td>6.41</td>\n",
       "      <td>29.97</td>\n",
       "    </tr>\n",
       "  </tbody>\n",
       "</table>\n",
       "</div>"
      ],
      "text/plain": [
       "   LSD_ppm  Avg_Math_Test_Score\n",
       "0     1.17                78.93\n",
       "1     2.97                58.20\n",
       "2     3.26                67.47\n",
       "3     4.69                37.47\n",
       "4     5.83                45.65\n",
       "5     6.00                32.92\n",
       "6     6.41                29.97"
      ]
     },
     "metadata": {},
     "execution_count": 158
    }
   ],
   "metadata": {}
  },
  {
   "cell_type": "code",
   "execution_count": 159,
   "source": [
    "y = data[[\"Avg_Math_Test_Score\"]]\r\n",
    "y"
   ],
   "outputs": [
    {
     "output_type": "execute_result",
     "data": {
      "text/html": [
       "<div>\n",
       "<style scoped>\n",
       "    .dataframe tbody tr th:only-of-type {\n",
       "        vertical-align: middle;\n",
       "    }\n",
       "\n",
       "    .dataframe tbody tr th {\n",
       "        vertical-align: top;\n",
       "    }\n",
       "\n",
       "    .dataframe thead th {\n",
       "        text-align: right;\n",
       "    }\n",
       "</style>\n",
       "<table border=\"1\" class=\"dataframe\">\n",
       "  <thead>\n",
       "    <tr style=\"text-align: right;\">\n",
       "      <th></th>\n",
       "      <th>Avg_Math_Test_Score</th>\n",
       "    </tr>\n",
       "  </thead>\n",
       "  <tbody>\n",
       "    <tr>\n",
       "      <th>0</th>\n",
       "      <td>78.93</td>\n",
       "    </tr>\n",
       "    <tr>\n",
       "      <th>1</th>\n",
       "      <td>58.20</td>\n",
       "    </tr>\n",
       "    <tr>\n",
       "      <th>2</th>\n",
       "      <td>67.47</td>\n",
       "    </tr>\n",
       "    <tr>\n",
       "      <th>3</th>\n",
       "      <td>37.47</td>\n",
       "    </tr>\n",
       "    <tr>\n",
       "      <th>4</th>\n",
       "      <td>45.65</td>\n",
       "    </tr>\n",
       "    <tr>\n",
       "      <th>5</th>\n",
       "      <td>32.92</td>\n",
       "    </tr>\n",
       "    <tr>\n",
       "      <th>6</th>\n",
       "      <td>29.97</td>\n",
       "    </tr>\n",
       "  </tbody>\n",
       "</table>\n",
       "</div>"
      ],
      "text/plain": [
       "   Avg_Math_Test_Score\n",
       "0                78.93\n",
       "1                58.20\n",
       "2                67.47\n",
       "3                37.47\n",
       "4                45.65\n",
       "5                32.92\n",
       "6                29.97"
      ]
     },
     "metadata": {},
     "execution_count": 159
    }
   ],
   "metadata": {}
  },
  {
   "cell_type": "code",
   "execution_count": 160,
   "source": [
    "X = data[[\"LSD_ppm\"]]\r\n",
    "X"
   ],
   "outputs": [
    {
     "output_type": "execute_result",
     "data": {
      "text/html": [
       "<div>\n",
       "<style scoped>\n",
       "    .dataframe tbody tr th:only-of-type {\n",
       "        vertical-align: middle;\n",
       "    }\n",
       "\n",
       "    .dataframe tbody tr th {\n",
       "        vertical-align: top;\n",
       "    }\n",
       "\n",
       "    .dataframe thead th {\n",
       "        text-align: right;\n",
       "    }\n",
       "</style>\n",
       "<table border=\"1\" class=\"dataframe\">\n",
       "  <thead>\n",
       "    <tr style=\"text-align: right;\">\n",
       "      <th></th>\n",
       "      <th>LSD_ppm</th>\n",
       "    </tr>\n",
       "  </thead>\n",
       "  <tbody>\n",
       "    <tr>\n",
       "      <th>0</th>\n",
       "      <td>1.17</td>\n",
       "    </tr>\n",
       "    <tr>\n",
       "      <th>1</th>\n",
       "      <td>2.97</td>\n",
       "    </tr>\n",
       "    <tr>\n",
       "      <th>2</th>\n",
       "      <td>3.26</td>\n",
       "    </tr>\n",
       "    <tr>\n",
       "      <th>3</th>\n",
       "      <td>4.69</td>\n",
       "    </tr>\n",
       "    <tr>\n",
       "      <th>4</th>\n",
       "      <td>5.83</td>\n",
       "    </tr>\n",
       "    <tr>\n",
       "      <th>5</th>\n",
       "      <td>6.00</td>\n",
       "    </tr>\n",
       "    <tr>\n",
       "      <th>6</th>\n",
       "      <td>6.41</td>\n",
       "    </tr>\n",
       "  </tbody>\n",
       "</table>\n",
       "</div>"
      ],
      "text/plain": [
       "   LSD_ppm\n",
       "0     1.17\n",
       "1     2.97\n",
       "2     3.26\n",
       "3     4.69\n",
       "4     5.83\n",
       "5     6.00\n",
       "6     6.41"
      ]
     },
     "metadata": {},
     "execution_count": 160
    }
   ],
   "metadata": {}
  },
  {
   "cell_type": "code",
   "execution_count": 161,
   "source": [
    "type(X)"
   ],
   "outputs": [
    {
     "output_type": "execute_result",
     "data": {
      "text/plain": [
       "pandas.core.frame.DataFrame"
      ]
     },
     "metadata": {},
     "execution_count": 161
    }
   ],
   "metadata": {}
  },
  {
   "cell_type": "code",
   "execution_count": 162,
   "source": [
    "data"
   ],
   "outputs": [
    {
     "output_type": "execute_result",
     "data": {
      "text/html": [
       "<div>\n",
       "<style scoped>\n",
       "    .dataframe tbody tr th:only-of-type {\n",
       "        vertical-align: middle;\n",
       "    }\n",
       "\n",
       "    .dataframe tbody tr th {\n",
       "        vertical-align: top;\n",
       "    }\n",
       "\n",
       "    .dataframe thead th {\n",
       "        text-align: right;\n",
       "    }\n",
       "</style>\n",
       "<table border=\"1\" class=\"dataframe\">\n",
       "  <thead>\n",
       "    <tr style=\"text-align: right;\">\n",
       "      <th></th>\n",
       "      <th>Time_Delay_in_Minutes</th>\n",
       "      <th>LSD_ppm</th>\n",
       "      <th>Avg_Math_Test_Score</th>\n",
       "      <th>High_Score</th>\n",
       "    </tr>\n",
       "  </thead>\n",
       "  <tbody>\n",
       "    <tr>\n",
       "      <th>0</th>\n",
       "      <td>5</td>\n",
       "      <td>1.17</td>\n",
       "      <td>78.93</td>\n",
       "      <td>32015.9449</td>\n",
       "    </tr>\n",
       "    <tr>\n",
       "      <th>1</th>\n",
       "      <td>15</td>\n",
       "      <td>2.97</td>\n",
       "      <td>58.20</td>\n",
       "      <td>25027.2400</td>\n",
       "    </tr>\n",
       "    <tr>\n",
       "      <th>2</th>\n",
       "      <td>30</td>\n",
       "      <td>3.26</td>\n",
       "      <td>67.47</td>\n",
       "      <td>28046.2009</td>\n",
       "    </tr>\n",
       "    <tr>\n",
       "      <th>3</th>\n",
       "      <td>60</td>\n",
       "      <td>4.69</td>\n",
       "      <td>37.47</td>\n",
       "      <td>18898.0009</td>\n",
       "    </tr>\n",
       "    <tr>\n",
       "      <th>4</th>\n",
       "      <td>120</td>\n",
       "      <td>5.83</td>\n",
       "      <td>45.65</td>\n",
       "      <td>21213.9225</td>\n",
       "    </tr>\n",
       "    <tr>\n",
       "      <th>5</th>\n",
       "      <td>240</td>\n",
       "      <td>6.00</td>\n",
       "      <td>32.92</td>\n",
       "      <td>17667.7264</td>\n",
       "    </tr>\n",
       "    <tr>\n",
       "      <th>6</th>\n",
       "      <td>480</td>\n",
       "      <td>6.41</td>\n",
       "      <td>29.97</td>\n",
       "      <td>16892.2009</td>\n",
       "    </tr>\n",
       "  </tbody>\n",
       "</table>\n",
       "</div>"
      ],
      "text/plain": [
       "   Time_Delay_in_Minutes  LSD_ppm  Avg_Math_Test_Score  High_Score\n",
       "0                      5     1.17                78.93  32015.9449\n",
       "1                     15     2.97                58.20  25027.2400\n",
       "2                     30     3.26                67.47  28046.2009\n",
       "3                     60     4.69                37.47  18898.0009\n",
       "4                    120     5.83                45.65  21213.9225\n",
       "5                    240     6.00                32.92  17667.7264\n",
       "6                    480     6.41                29.97  16892.2009"
      ]
     },
     "metadata": {},
     "execution_count": 162
    }
   ],
   "metadata": {}
  },
  {
   "cell_type": "code",
   "execution_count": 163,
   "source": [
    "del data[\"High_Score\"]"
   ],
   "outputs": [],
   "metadata": {}
  },
  {
   "cell_type": "code",
   "execution_count": 164,
   "source": [
    "data"
   ],
   "outputs": [
    {
     "output_type": "execute_result",
     "data": {
      "text/html": [
       "<div>\n",
       "<style scoped>\n",
       "    .dataframe tbody tr th:only-of-type {\n",
       "        vertical-align: middle;\n",
       "    }\n",
       "\n",
       "    .dataframe tbody tr th {\n",
       "        vertical-align: top;\n",
       "    }\n",
       "\n",
       "    .dataframe thead th {\n",
       "        text-align: right;\n",
       "    }\n",
       "</style>\n",
       "<table border=\"1\" class=\"dataframe\">\n",
       "  <thead>\n",
       "    <tr style=\"text-align: right;\">\n",
       "      <th></th>\n",
       "      <th>Time_Delay_in_Minutes</th>\n",
       "      <th>LSD_ppm</th>\n",
       "      <th>Avg_Math_Test_Score</th>\n",
       "    </tr>\n",
       "  </thead>\n",
       "  <tbody>\n",
       "    <tr>\n",
       "      <th>0</th>\n",
       "      <td>5</td>\n",
       "      <td>1.17</td>\n",
       "      <td>78.93</td>\n",
       "    </tr>\n",
       "    <tr>\n",
       "      <th>1</th>\n",
       "      <td>15</td>\n",
       "      <td>2.97</td>\n",
       "      <td>58.20</td>\n",
       "    </tr>\n",
       "    <tr>\n",
       "      <th>2</th>\n",
       "      <td>30</td>\n",
       "      <td>3.26</td>\n",
       "      <td>67.47</td>\n",
       "    </tr>\n",
       "    <tr>\n",
       "      <th>3</th>\n",
       "      <td>60</td>\n",
       "      <td>4.69</td>\n",
       "      <td>37.47</td>\n",
       "    </tr>\n",
       "    <tr>\n",
       "      <th>4</th>\n",
       "      <td>120</td>\n",
       "      <td>5.83</td>\n",
       "      <td>45.65</td>\n",
       "    </tr>\n",
       "    <tr>\n",
       "      <th>5</th>\n",
       "      <td>240</td>\n",
       "      <td>6.00</td>\n",
       "      <td>32.92</td>\n",
       "    </tr>\n",
       "    <tr>\n",
       "      <th>6</th>\n",
       "      <td>480</td>\n",
       "      <td>6.41</td>\n",
       "      <td>29.97</td>\n",
       "    </tr>\n",
       "  </tbody>\n",
       "</table>\n",
       "</div>"
      ],
      "text/plain": [
       "   Time_Delay_in_Minutes  LSD_ppm  Avg_Math_Test_Score\n",
       "0                      5     1.17                78.93\n",
       "1                     15     2.97                58.20\n",
       "2                     30     3.26                67.47\n",
       "3                     60     4.69                37.47\n",
       "4                    120     5.83                45.65\n",
       "5                    240     6.00                32.92\n",
       "6                    480     6.41                29.97"
      ]
     },
     "metadata": {},
     "execution_count": 164
    }
   ],
   "metadata": {}
  },
  {
   "cell_type": "markdown",
   "source": [],
   "metadata": {}
  },
  {
   "cell_type": "code",
   "execution_count": 165,
   "source": [
    "time = data[[\"Time_Delay_in_Minutes\"]]\r\n",
    "LSD = data[[\"LSD_ppm\"]]\r\n",
    "score = data[[\"Avg_Math_Test_Score\"]]"
   ],
   "outputs": [],
   "metadata": {}
  },
  {
   "cell_type": "code",
   "execution_count": 166,
   "source": [
    "% matplotlib.inline\r\n",
    "plt.plot(time, LSD, color =\"g\", linewidth = 5)\r\n",
    "plt.xlabel(\"Time\", fontsize = 15)\r\n",
    "plt.ylabel(\"LSD\", fontsize = 15)\r\n",
    "plt.title(\"Time v/s LSD\", fontsize = 20)\r\n",
    "plt.text(x = 0, y = -0.5, s=\"*According to Sources\")\r\n",
    "plt.xticks(fontsize = 10)\r\n",
    "plt.yticks(fontsize = 10)\r\n",
    "plt.ylim(1,7)\r\n",
    "\r\n",
    "plt.style.use(\"classic\")\r\n",
    "plt.show()"
   ],
   "outputs": [
    {
     "output_type": "stream",
     "name": "stderr",
     "text": [
      "UsageError: Line magic function `%` not found.\n"
     ]
    }
   ],
   "metadata": {}
  },
  {
   "cell_type": "code",
   "execution_count": 180,
   "source": [
    "regr = LinearRegression()\r\n",
    "regr.fit(LSD, score)\r\n",
    "print(\"Theta: \", regr.coef_[0][0])\r\n",
    "print(\"Intercept:\", regr.intercept_[0])\r\n",
    "print(\"R-Square: \", regr.score(LSD, score))"
   ],
   "outputs": [
    {
     "output_type": "stream",
     "name": "stdout",
     "text": [
      "Theta:  -9.009466415296783\n",
      "Intercept: 89.12387376799306\n",
      "R-Square:  0.8778349707775888\n"
     ]
    }
   ],
   "metadata": {}
  },
  {
   "cell_type": "code",
   "execution_count": 182,
   "source": [
    "plt.scatter(LSD, score, color=\"b\")\r\n"
   ],
   "outputs": [
    {
     "output_type": "execute_result",
     "data": {
      "text/plain": [
       "<matplotlib.collections.PathCollection at 0x24eff63e460>"
      ]
     },
     "metadata": {},
     "execution_count": 182
    },
    {
     "output_type": "display_data",
     "data": {
      "image/png": "[encoded data removed]",
      "text/plain": [
       "<Figure size 640x480 with 1 Axes>"
      ]
     },
     "metadata": {}
    }
   ],
   "metadata": {}
  },
  {
   "cell_type": "code",
   "execution_count": null,
   "source": [],
   "outputs": [],
   "metadata": {}
  }
 ],
 "metadata": {
  "orig_nbformat": 4,
  "language_info": {
   "name": "python",
   "version": "3.9.7",
   "mimetype": "text/x-python",
   "codemirror_mode": {
    "name": "ipython",
    "version": 3
   },
   "pygments_lexer": "ipython3",
   "nbconvert_exporter": "python",
   "file_extension": ".py"
  },
  "kernelspec": {
   "name": "python3",
   "display_name": "Python 3.9.7 64-bit (windows store)"
  },
  "interpreter": {
   "hash": "21d90c47459f8888f3817ffa6697c127b8fbc322431165dae9d541fc6ce75a21"
  }
 },
 "nbformat": 4,
 "nbformat_minor": 2
}